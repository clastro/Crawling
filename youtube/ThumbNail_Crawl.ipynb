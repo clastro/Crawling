{
 "cells": [
  {
   "cell_type": "code",
   "execution_count": 3,
   "id": "d857b263",
   "metadata": {},
   "outputs": [],
   "source": [
    "import pandas as pd\n",
    "import os\n",
    "import time\n",
    "import urllib.request\n",
    "from tqdm import tqdm\n",
    "import requests\n",
    "import pymysql"
   ]
  },
  {
   "cell_type": "code",
   "execution_count": 4,
   "id": "384accce",
   "metadata": {},
   "outputs": [],
   "source": [
    "host=\"database-1.cutjb1u2xemu.ap-northeast-2.rds.amazonaws.com\"\n",
    "port=3306\n",
    "user=\"dhseo\"\n",
    "passwd=\"seodh1234\"\n",
    "db=\"hifen\""
   ]
  },
  {
   "cell_type": "code",
   "execution_count": 5,
   "id": "e28df029",
   "metadata": {},
   "outputs": [],
   "source": [
    "conn  = pymysql.connect(host=host,port=port,user=user,passwd=passwd,db=db)  #데이터베이스 연결\n",
    "cursor = conn.cursor()\n",
    "conn.set_charset('utf8')"
   ]
  },
  {
   "cell_type": "code",
   "execution_count": 16,
   "id": "3a408f66",
   "metadata": {},
   "outputs": [],
   "source": [
    "cursor.execute(\"SELECT channel_id FROM filtered_condition_17854 WHERE thumbnail is NULL\")\n",
    "channel_item = pd.DataFrame(cursor.fetchall(),columns=['channel_id'])"
   ]
  },
  {
   "cell_type": "code",
   "execution_count": 18,
   "id": "73487ba0",
   "metadata": {},
   "outputs": [
    {
     "data": {
      "text/plain": [
       "0       UC--Vjom9AbabcCMzRLRo0vQ\n",
       "1       UC-57hO6ro4Htu4CXCWJ6lJg\n",
       "2       UC-9HdRV-OzriZ1Q09bT304w\n",
       "3       UC-D-8ETmrD91sqHy_n46rHQ\n",
       "4       UC-JOTKvMBXnAtII0klUmnCA\n",
       "                  ...           \n",
       "1309    UCzeOJdJYHI6m7BMIVb3nCZQ\n",
       "1310    UCzl0Kr-AjzrcwBQHVQdTBQA\n",
       "1311    UCzusFbdJNlQc7C71QFuRumw\n",
       "1312    UCzvY3NCwcrDD5W-Aat6fHoQ\n",
       "1313    UCzztzqBv_dJjo9MV4yhiAAw\n",
       "Name: channel_id, Length: 1314, dtype: object"
      ]
     },
     "execution_count": 18,
     "metadata": {},
     "output_type": "execute_result"
    }
   ],
   "source": [
    "channel_item['channel_id']"
   ]
  },
  {
   "cell_type": "code",
   "execution_count": 2,
   "id": "5ab4f9cd",
   "metadata": {},
   "outputs": [],
   "source": [
    "df_filter = pd.read_csv('./filtered_condition_17854.csv',encoding='utf-8-sig')"
   ]
  },
  {
   "cell_type": "code",
   "execution_count": 3,
   "id": "a35776a3",
   "metadata": {
    "scrolled": true
   },
   "outputs": [
    {
     "data": {
      "text/plain": [
       "0        UC--Vjom9AbabcCMzRLRo0vQ\n",
       "1        UC-0229MiVYnQoUxdLJnFl_g\n",
       "2        UC-0JYXUFvDy2wlrBXazqz0w\n",
       "3        UC-0tICWyA0_AJAVMBHL8GdQ\n",
       "4        UC-1OBOWjQTHpkWhvgPAo1Fg\n",
       "                   ...           \n",
       "17849    UCzzsPLVj67qyXrVcGmewSmg\n",
       "17850    UCzzt6bFEBcy-CoZeFvTSq0A\n",
       "17851    UCzzt9YrAmPsya3zBMmS9Nmw\n",
       "17852    UCzztPvTc6mfxKji1AkyROgw\n",
       "17853    UCzztzqBv_dJjo9MV4yhiAAw\n",
       "Name: channel_id, Length: 17854, dtype: object"
      ]
     },
     "execution_count": 3,
     "metadata": {},
     "output_type": "execute_result"
    }
   ],
   "source": [
    "df_filter['channel_id']"
   ]
  },
  {
   "cell_type": "code",
   "execution_count": 32,
   "id": "46a3c1a9",
   "metadata": {},
   "outputs": [],
   "source": [
    "thumb_list = []\n",
    "banner_list = []\n",
    "channel_list = []"
   ]
  },
  {
   "cell_type": "code",
   "execution_count": 45,
   "id": "65758661",
   "metadata": {
    "scrolled": true
   },
   "outputs": [
    {
     "name": "stderr",
     "output_type": "stream",
     "text": [
      "  0%|                                                                                 | 1/1314 [00:00<14:36,  1.50it/s]"
     ]
    },
    {
     "name": "stdout",
     "output_type": "stream",
     "text": [
      "<!DOCTYPE html PUBLIC \"-//W3C//DTD HTML 4.01 Transitional//EN\">\n",
      "<html>\n",
      "<head><meta http-equiv=\"content-type\" content=\"text/html; charset=utf-8\"><meta name=\"viewport\" content=\"initial-scale=1\"><title>https://www.youtube.com/channel/UC--Vjom9AbabcCMzRLRo0vQ</title></head>\n",
      "<body style=\"font-family: arial, sans-serif; background-color: #fff; color: #000; padding:20px; font-size:18px;\" onload=\"e=document.getElementById('captcha');if(e){e.focus();}\">\n",
      "<div style=\"max-width:400px;\">\n",
      "<hr noshade size=\"1\" style=\"color:#ccc; background-color:#ccc;\"><br>\n",
      "<form id=\"captcha-form\" action=\"index\" method=\"post\">\n",
      "<script src=\"https://www.google.com/recaptcha/api.js\" async defer></script>\n",
      "<script>var submitCallback = function(response) {document.getElementById('captcha-form').submit();};</script>\n",
      "<div id=\"recaptcha\" class=\"g-recaptcha\" data-sitekey=\"6LfwuyUTAAAAAOAmoS0fdqijC2PbbdH4kjq62Y1b\" data-callback=\"submitCallback\" data-s=\"-wgMzwueB6uHN7OorQMqIk2YhJQWLkqENIkeZkqGgJKLtEtpJqdjeXnHMAXtUcDhAYnh48FZKDeu29mMMyditKpahqWMxys1vbQpOKAROKfsDscaJmPB-7x_wI2YuehMcMnz9MRLrAnre1LNPjhzJGY9NLT_csMwWNisV8pwELtsyemEcZGbuOQbOx5IwyY3tZAI9w9FQ2uRGUn2O9kGHv-ScBx47UwQW1amHPk\"></div>\n",
      "<input type='hidden' name='q' value='EgTcTNvyGLO3wo0GIhBdan64nlK8WLHM7Yg-rXQmMgFy'><input type=\"hidden\" name=\"continue\" value=\"https://www.youtube.com/channel/UC--Vjom9AbabcCMzRLRo0vQ\">\n",
      "</form>\n",
      "<hr noshade size=\"1\" style=\"color:#ccc; background-color:#ccc;\">\n",
      "\n",
      "<div style=\"font-size:13px;\">\n",
      "<b>About this page</b><br><br>\n",
      "\n",
      "Our systems have detected unusual traffic from your computer network.  This page checks to see if it&#39;s really you sending the requests, and not a robot.  <a href=\"#\" onclick=\"document.getElementById('infoDiv').style.display='block';\">Why did this happen?</a><br><br>\n",
      "\n",
      "<div id=\"infoDiv\" style=\"display:none; background-color:#eee; padding:10px; margin:0 0 15px 0; line-height:1.4em;\">\n",
      "This page appears when Google automatically detects requests coming from your computer network which appear to be in violation of the <a href=\"//www.google.com/policies/terms/\">Terms of Service</a>. The block will expire shortly after those requests stop.  In the meantime, solving the above CAPTCHA will let you continue to use our services.<br><br>This traffic may have been sent by malicious software, a browser plug-in, or a script that sends automated requests.  If you share your network connection, ask your administrator for help &mdash; a different computer using the same IP address may be responsible.  <a href=\"//support.google.com/websearch/answer/86640\">Learn more</a><br><br>Sometimes you may be asked to solve the CAPTCHA if you are using advanced terms that robots are known to use, or sending requests very quickly.\n",
      "</div>\n",
      "\n",
      "IP address: 220.76.219.242<br>Time: 2021-12-08T11:49:07Z<br>URL: https://www.youtube.com/channel/UC--Vjom9AbabcCMzRLRo0vQ<br>\n",
      "</div>\n",
      "</div>\n",
      "</body>\n",
      "</html>\n",
      "\n",
      "-1\n"
     ]
    },
    {
     "name": "stderr",
     "output_type": "stream",
     "text": [
      "\r",
      "  0%|                                                                                 | 2/1314 [00:01<16:49,  1.30it/s]"
     ]
    },
    {
     "name": "stdout",
     "output_type": "stream",
     "text": [
      "<!DOCTYPE html PUBLIC \"-//W3C//DTD HTML 4.01 Transitional//EN\">\n",
      "<html>\n",
      "<head><meta http-equiv=\"content-type\" content=\"text/html; charset=utf-8\"><meta name=\"viewport\" content=\"initial-scale=1\"><title>https://www.youtube.com/channel/UC-57hO6ro4Htu4CXCWJ6lJg</title></head>\n",
      "<body style=\"font-family: arial, sans-serif; background-color: #fff; color: #000; padding:20px; font-size:18px;\" onload=\"e=document.getElementById('captcha');if(e){e.focus();}\">\n",
      "<div style=\"max-width:400px;\">\n",
      "<hr noshade size=\"1\" style=\"color:#ccc; background-color:#ccc;\"><br>\n",
      "<form id=\"captcha-form\" action=\"index\" method=\"post\">\n",
      "<script src=\"https://www.google.com/recaptcha/api.js\" async defer></script>\n",
      "<script>var submitCallback = function(response) {document.getElementById('captcha-form').submit();};</script>\n",
      "<div id=\"recaptcha\" class=\"g-recaptcha\" data-sitekey=\"6LfwuyUTAAAAAOAmoS0fdqijC2PbbdH4kjq62Y1b\" data-callback=\"submitCallback\" data-s=\"ZEWUAkCwBm996MBrWnNdhqwmVJ4XFUeXDaKrBkQhkaT8s7aEqehRnuXM7e5fmeMwbrQUg6YP9RbcF1iNjSGQj1ZpiExVIut0UI_Nfh9qLlCegLU-_dPksf7_hinR9CJbfGifJYajEiSPYn2vEp-8GKZi0MUccoaQvctX14C4WXkJtbYvY4G_y8gCOG2XF0C1ovepAAx5KQeAOldEKEeodZGiEQcWhD4Wf36H6jI\"></div>\n",
      "<input type='hidden' name='q' value='EgTcTNvyGLO3wo0GIhBp_h01w7dhXLHyv_nMkyoPMgFy'><input type=\"hidden\" name=\"continue\" value=\"https://www.youtube.com/channel/UC-57hO6ro4Htu4CXCWJ6lJg\">\n",
      "</form>\n",
      "<hr noshade size=\"1\" style=\"color:#ccc; background-color:#ccc;\">\n",
      "\n",
      "<div style=\"font-size:13px;\">\n",
      "<b>About this page</b><br><br>\n",
      "\n",
      "Our systems have detected unusual traffic from your computer network.  This page checks to see if it&#39;s really you sending the requests, and not a robot.  <a href=\"#\" onclick=\"document.getElementById('infoDiv').style.display='block';\">Why did this happen?</a><br><br>\n",
      "\n",
      "<div id=\"infoDiv\" style=\"display:none; background-color:#eee; padding:10px; margin:0 0 15px 0; line-height:1.4em;\">\n",
      "This page appears when Google automatically detects requests coming from your computer network which appear to be in violation of the <a href=\"//www.google.com/policies/terms/\">Terms of Service</a>. The block will expire shortly after those requests stop.  In the meantime, solving the above CAPTCHA will let you continue to use our services.<br><br>This traffic may have been sent by malicious software, a browser plug-in, or a script that sends automated requests.  If you share your network connection, ask your administrator for help &mdash; a different computer using the same IP address may be responsible.  <a href=\"//support.google.com/websearch/answer/86640\">Learn more</a><br><br>Sometimes you may be asked to solve the CAPTCHA if you are using advanced terms that robots are known to use, or sending requests very quickly.\n",
      "</div>\n",
      "\n",
      "IP address: 220.76.219.242<br>Time: 2021-12-08T11:49:08Z<br>URL: https://www.youtube.com/channel/UC-57hO6ro4Htu4CXCWJ6lJg<br>\n",
      "</div>\n",
      "</div>\n",
      "</body>\n",
      "</html>\n",
      "\n",
      "-1\n"
     ]
    },
    {
     "name": "stderr",
     "output_type": "stream",
     "text": [
      "  0%|▏                                                                                | 3/1314 [00:02<17:32,  1.25it/s]"
     ]
    },
    {
     "name": "stdout",
     "output_type": "stream",
     "text": [
      "<!DOCTYPE html PUBLIC \"-//W3C//DTD HTML 4.01 Transitional//EN\">\n",
      "<html>\n",
      "<head><meta http-equiv=\"content-type\" content=\"text/html; charset=utf-8\"><meta name=\"viewport\" content=\"initial-scale=1\"><title>https://www.youtube.com/channel/UC-9HdRV-OzriZ1Q09bT304w</title></head>\n",
      "<body style=\"font-family: arial, sans-serif; background-color: #fff; color: #000; padding:20px; font-size:18px;\" onload=\"e=document.getElementById('captcha');if(e){e.focus();}\">\n",
      "<div style=\"max-width:400px;\">\n",
      "<hr noshade size=\"1\" style=\"color:#ccc; background-color:#ccc;\"><br>\n",
      "<form id=\"captcha-form\" action=\"index\" method=\"post\">\n",
      "<script src=\"https://www.google.com/recaptcha/api.js\" async defer></script>\n",
      "<script>var submitCallback = function(response) {document.getElementById('captcha-form').submit();};</script>\n",
      "<div id=\"recaptcha\" class=\"g-recaptcha\" data-sitekey=\"6LfwuyUTAAAAAOAmoS0fdqijC2PbbdH4kjq62Y1b\" data-callback=\"submitCallback\" data-s=\"rP1xR5MJ2Eoe9PfW6LCYaYhzdmxOg90GGE3SXALwt3o9hXfR8OJofS8Z1vD31lkgwKWrfar1A51pkwajoYND_vo-2ZDqYwHueFgFUmvc6TA61i54HejMCXUv32vZczLIG3GC0Nl0EpmUDLl4UtsZ-c3O7RHA0p81GXcLNB9g6GDWdK5oYMlzH3MG7hE6ABhC7A5zUXYkx7EWBAEcy3t5enyQmBQ9kEGDe69Vo1U\"></div>\n",
      "<input type='hidden' name='q' value='EgTcTNvyGLS3wo0GIhCSCmMf3NmpU_9jRE_OZbhfMgFy'><input type=\"hidden\" name=\"continue\" value=\"https://www.youtube.com/channel/UC-9HdRV-OzriZ1Q09bT304w\">\n",
      "</form>\n",
      "<hr noshade size=\"1\" style=\"color:#ccc; background-color:#ccc;\">\n",
      "\n",
      "<div style=\"font-size:13px;\">\n",
      "<b>About this page</b><br><br>\n",
      "\n",
      "Our systems have detected unusual traffic from your computer network.  This page checks to see if it&#39;s really you sending the requests, and not a robot.  <a href=\"#\" onclick=\"document.getElementById('infoDiv').style.display='block';\">Why did this happen?</a><br><br>\n",
      "\n",
      "<div id=\"infoDiv\" style=\"display:none; background-color:#eee; padding:10px; margin:0 0 15px 0; line-height:1.4em;\">\n",
      "This page appears when Google automatically detects requests coming from your computer network which appear to be in violation of the <a href=\"//www.google.com/policies/terms/\">Terms of Service</a>. The block will expire shortly after those requests stop.  In the meantime, solving the above CAPTCHA will let you continue to use our services.<br><br>This traffic may have been sent by malicious software, a browser plug-in, or a script that sends automated requests.  If you share your network connection, ask your administrator for help &mdash; a different computer using the same IP address may be responsible.  <a href=\"//support.google.com/websearch/answer/86640\">Learn more</a><br><br>Sometimes you may be asked to solve the CAPTCHA if you are using advanced terms that robots are known to use, or sending requests very quickly.\n",
      "</div>\n",
      "\n",
      "IP address: 220.76.219.242<br>Time: 2021-12-08T11:49:09Z<br>URL: https://www.youtube.com/channel/UC-9HdRV-OzriZ1Q09bT304w<br>\n",
      "</div>\n",
      "</div>\n",
      "</body>\n",
      "</html>\n",
      "\n",
      "-1\n"
     ]
    },
    {
     "name": "stderr",
     "output_type": "stream",
     "text": [
      "\n"
     ]
    },
    {
     "ename": "KeyboardInterrupt",
     "evalue": "",
     "output_type": "error",
     "traceback": [
      "\u001b[1;31m---------------------------------------------------------------------------\u001b[0m",
      "\u001b[1;31mKeyboardInterrupt\u001b[0m                         Traceback (most recent call last)",
      "\u001b[1;32m<ipython-input-45-fdd01c0d5e6d>\u001b[0m in \u001b[0;36m<module>\u001b[1;34m\u001b[0m\n\u001b[0;32m      1\u001b[0m \u001b[0mcnt\u001b[0m \u001b[1;33m=\u001b[0m \u001b[1;36m0\u001b[0m\u001b[1;33m\u001b[0m\u001b[1;33m\u001b[0m\u001b[0m\n\u001b[0;32m      2\u001b[0m \u001b[1;32mfor\u001b[0m \u001b[0mi\u001b[0m \u001b[1;32min\u001b[0m \u001b[0mtqdm\u001b[0m\u001b[1;33m(\u001b[0m\u001b[0mchannel_item\u001b[0m\u001b[1;33m[\u001b[0m\u001b[1;34m'channel_id'\u001b[0m\u001b[1;33m]\u001b[0m\u001b[1;33m)\u001b[0m\u001b[1;33m:\u001b[0m\u001b[1;33m\u001b[0m\u001b[1;33m\u001b[0m\u001b[0m\n\u001b[1;32m----> 3\u001b[1;33m     \u001b[0mres\u001b[0m \u001b[1;33m=\u001b[0m \u001b[0mrequests\u001b[0m\u001b[1;33m.\u001b[0m\u001b[0mget\u001b[0m\u001b[1;33m(\u001b[0m\u001b[1;34m'https://www.youtube.com/channel/'\u001b[0m\u001b[1;33m+\u001b[0m\u001b[0mi\u001b[0m\u001b[1;33m)\u001b[0m\u001b[1;33m\u001b[0m\u001b[1;33m\u001b[0m\u001b[0m\n\u001b[0m\u001b[0;32m      4\u001b[0m     \u001b[0mthumb_id\u001b[0m \u001b[1;33m=\u001b[0m \u001b[0mres\u001b[0m\u001b[1;33m.\u001b[0m\u001b[0mtext\u001b[0m\u001b[1;33m.\u001b[0m\u001b[0mfind\u001b[0m\u001b[1;33m(\u001b[0m\u001b[1;34m'itemprop=\"thumbnailUrl\"'\u001b[0m\u001b[1;33m)\u001b[0m\u001b[1;33m\u001b[0m\u001b[1;33m\u001b[0m\u001b[0m\n\u001b[0;32m      5\u001b[0m     \u001b[0mprint\u001b[0m\u001b[1;33m(\u001b[0m\u001b[0mres\u001b[0m\u001b[1;33m.\u001b[0m\u001b[0mtext\u001b[0m\u001b[1;33m)\u001b[0m\u001b[1;33m\u001b[0m\u001b[1;33m\u001b[0m\u001b[0m\n",
      "\u001b[1;32m~\\anaconda3\\lib\\site-packages\\requests\\api.py\u001b[0m in \u001b[0;36mget\u001b[1;34m(url, params, **kwargs)\u001b[0m\n\u001b[0;32m     74\u001b[0m \u001b[1;33m\u001b[0m\u001b[0m\n\u001b[0;32m     75\u001b[0m     \u001b[0mkwargs\u001b[0m\u001b[1;33m.\u001b[0m\u001b[0msetdefault\u001b[0m\u001b[1;33m(\u001b[0m\u001b[1;34m'allow_redirects'\u001b[0m\u001b[1;33m,\u001b[0m \u001b[1;32mTrue\u001b[0m\u001b[1;33m)\u001b[0m\u001b[1;33m\u001b[0m\u001b[1;33m\u001b[0m\u001b[0m\n\u001b[1;32m---> 76\u001b[1;33m     \u001b[1;32mreturn\u001b[0m \u001b[0mrequest\u001b[0m\u001b[1;33m(\u001b[0m\u001b[1;34m'get'\u001b[0m\u001b[1;33m,\u001b[0m \u001b[0murl\u001b[0m\u001b[1;33m,\u001b[0m \u001b[0mparams\u001b[0m\u001b[1;33m=\u001b[0m\u001b[0mparams\u001b[0m\u001b[1;33m,\u001b[0m \u001b[1;33m**\u001b[0m\u001b[0mkwargs\u001b[0m\u001b[1;33m)\u001b[0m\u001b[1;33m\u001b[0m\u001b[1;33m\u001b[0m\u001b[0m\n\u001b[0m\u001b[0;32m     77\u001b[0m \u001b[1;33m\u001b[0m\u001b[0m\n\u001b[0;32m     78\u001b[0m \u001b[1;33m\u001b[0m\u001b[0m\n",
      "\u001b[1;32m~\\anaconda3\\lib\\site-packages\\requests\\api.py\u001b[0m in \u001b[0;36mrequest\u001b[1;34m(method, url, **kwargs)\u001b[0m\n\u001b[0;32m     59\u001b[0m     \u001b[1;31m# cases, and look like a memory leak in others.\u001b[0m\u001b[1;33m\u001b[0m\u001b[1;33m\u001b[0m\u001b[1;33m\u001b[0m\u001b[0m\n\u001b[0;32m     60\u001b[0m     \u001b[1;32mwith\u001b[0m \u001b[0msessions\u001b[0m\u001b[1;33m.\u001b[0m\u001b[0mSession\u001b[0m\u001b[1;33m(\u001b[0m\u001b[1;33m)\u001b[0m \u001b[1;32mas\u001b[0m \u001b[0msession\u001b[0m\u001b[1;33m:\u001b[0m\u001b[1;33m\u001b[0m\u001b[1;33m\u001b[0m\u001b[0m\n\u001b[1;32m---> 61\u001b[1;33m         \u001b[1;32mreturn\u001b[0m \u001b[0msession\u001b[0m\u001b[1;33m.\u001b[0m\u001b[0mrequest\u001b[0m\u001b[1;33m(\u001b[0m\u001b[0mmethod\u001b[0m\u001b[1;33m=\u001b[0m\u001b[0mmethod\u001b[0m\u001b[1;33m,\u001b[0m \u001b[0murl\u001b[0m\u001b[1;33m=\u001b[0m\u001b[0murl\u001b[0m\u001b[1;33m,\u001b[0m \u001b[1;33m**\u001b[0m\u001b[0mkwargs\u001b[0m\u001b[1;33m)\u001b[0m\u001b[1;33m\u001b[0m\u001b[1;33m\u001b[0m\u001b[0m\n\u001b[0m\u001b[0;32m     62\u001b[0m \u001b[1;33m\u001b[0m\u001b[0m\n\u001b[0;32m     63\u001b[0m \u001b[1;33m\u001b[0m\u001b[0m\n",
      "\u001b[1;32m~\\anaconda3\\lib\\site-packages\\requests\\sessions.py\u001b[0m in \u001b[0;36mrequest\u001b[1;34m(self, method, url, params, data, headers, cookies, files, auth, timeout, allow_redirects, proxies, hooks, stream, verify, cert, json)\u001b[0m\n\u001b[0;32m    540\u001b[0m         }\n\u001b[0;32m    541\u001b[0m         \u001b[0msend_kwargs\u001b[0m\u001b[1;33m.\u001b[0m\u001b[0mupdate\u001b[0m\u001b[1;33m(\u001b[0m\u001b[0msettings\u001b[0m\u001b[1;33m)\u001b[0m\u001b[1;33m\u001b[0m\u001b[1;33m\u001b[0m\u001b[0m\n\u001b[1;32m--> 542\u001b[1;33m         \u001b[0mresp\u001b[0m \u001b[1;33m=\u001b[0m \u001b[0mself\u001b[0m\u001b[1;33m.\u001b[0m\u001b[0msend\u001b[0m\u001b[1;33m(\u001b[0m\u001b[0mprep\u001b[0m\u001b[1;33m,\u001b[0m \u001b[1;33m**\u001b[0m\u001b[0msend_kwargs\u001b[0m\u001b[1;33m)\u001b[0m\u001b[1;33m\u001b[0m\u001b[1;33m\u001b[0m\u001b[0m\n\u001b[0m\u001b[0;32m    543\u001b[0m \u001b[1;33m\u001b[0m\u001b[0m\n\u001b[0;32m    544\u001b[0m         \u001b[1;32mreturn\u001b[0m \u001b[0mresp\u001b[0m\u001b[1;33m\u001b[0m\u001b[1;33m\u001b[0m\u001b[0m\n",
      "\u001b[1;32m~\\anaconda3\\lib\\site-packages\\requests\\sessions.py\u001b[0m in \u001b[0;36msend\u001b[1;34m(self, request, **kwargs)\u001b[0m\n\u001b[0;32m    653\u001b[0m \u001b[1;33m\u001b[0m\u001b[0m\n\u001b[0;32m    654\u001b[0m         \u001b[1;31m# Send the request\u001b[0m\u001b[1;33m\u001b[0m\u001b[1;33m\u001b[0m\u001b[1;33m\u001b[0m\u001b[0m\n\u001b[1;32m--> 655\u001b[1;33m         \u001b[0mr\u001b[0m \u001b[1;33m=\u001b[0m \u001b[0madapter\u001b[0m\u001b[1;33m.\u001b[0m\u001b[0msend\u001b[0m\u001b[1;33m(\u001b[0m\u001b[0mrequest\u001b[0m\u001b[1;33m,\u001b[0m \u001b[1;33m**\u001b[0m\u001b[0mkwargs\u001b[0m\u001b[1;33m)\u001b[0m\u001b[1;33m\u001b[0m\u001b[1;33m\u001b[0m\u001b[0m\n\u001b[0m\u001b[0;32m    656\u001b[0m \u001b[1;33m\u001b[0m\u001b[0m\n\u001b[0;32m    657\u001b[0m         \u001b[1;31m# Total elapsed time of the request (approximately)\u001b[0m\u001b[1;33m\u001b[0m\u001b[1;33m\u001b[0m\u001b[1;33m\u001b[0m\u001b[0m\n",
      "\u001b[1;32m~\\anaconda3\\lib\\site-packages\\requests\\adapters.py\u001b[0m in \u001b[0;36msend\u001b[1;34m(self, request, stream, timeout, verify, cert, proxies)\u001b[0m\n\u001b[0;32m    437\u001b[0m         \u001b[1;32mtry\u001b[0m\u001b[1;33m:\u001b[0m\u001b[1;33m\u001b[0m\u001b[1;33m\u001b[0m\u001b[0m\n\u001b[0;32m    438\u001b[0m             \u001b[1;32mif\u001b[0m \u001b[1;32mnot\u001b[0m \u001b[0mchunked\u001b[0m\u001b[1;33m:\u001b[0m\u001b[1;33m\u001b[0m\u001b[1;33m\u001b[0m\u001b[0m\n\u001b[1;32m--> 439\u001b[1;33m                 resp = conn.urlopen(\n\u001b[0m\u001b[0;32m    440\u001b[0m                     \u001b[0mmethod\u001b[0m\u001b[1;33m=\u001b[0m\u001b[0mrequest\u001b[0m\u001b[1;33m.\u001b[0m\u001b[0mmethod\u001b[0m\u001b[1;33m,\u001b[0m\u001b[1;33m\u001b[0m\u001b[1;33m\u001b[0m\u001b[0m\n\u001b[0;32m    441\u001b[0m                     \u001b[0murl\u001b[0m\u001b[1;33m=\u001b[0m\u001b[0murl\u001b[0m\u001b[1;33m,\u001b[0m\u001b[1;33m\u001b[0m\u001b[1;33m\u001b[0m\u001b[0m\n",
      "\u001b[1;32m~\\anaconda3\\lib\\site-packages\\urllib3\\connectionpool.py\u001b[0m in \u001b[0;36murlopen\u001b[1;34m(self, method, url, body, headers, retries, redirect, assert_same_host, timeout, pool_timeout, release_conn, chunked, body_pos, **response_kw)\u001b[0m\n\u001b[0;32m    697\u001b[0m \u001b[1;33m\u001b[0m\u001b[0m\n\u001b[0;32m    698\u001b[0m             \u001b[1;31m# Make the request on the httplib connection object.\u001b[0m\u001b[1;33m\u001b[0m\u001b[1;33m\u001b[0m\u001b[1;33m\u001b[0m\u001b[0m\n\u001b[1;32m--> 699\u001b[1;33m             httplib_response = self._make_request(\n\u001b[0m\u001b[0;32m    700\u001b[0m                 \u001b[0mconn\u001b[0m\u001b[1;33m,\u001b[0m\u001b[1;33m\u001b[0m\u001b[1;33m\u001b[0m\u001b[0m\n\u001b[0;32m    701\u001b[0m                 \u001b[0mmethod\u001b[0m\u001b[1;33m,\u001b[0m\u001b[1;33m\u001b[0m\u001b[1;33m\u001b[0m\u001b[0m\n",
      "\u001b[1;32m~\\anaconda3\\lib\\site-packages\\urllib3\\connectionpool.py\u001b[0m in \u001b[0;36m_make_request\u001b[1;34m(self, conn, method, url, timeout, chunked, **httplib_request_kw)\u001b[0m\n\u001b[0;32m    380\u001b[0m         \u001b[1;31m# Trigger any extra validation we need to do.\u001b[0m\u001b[1;33m\u001b[0m\u001b[1;33m\u001b[0m\u001b[1;33m\u001b[0m\u001b[0m\n\u001b[0;32m    381\u001b[0m         \u001b[1;32mtry\u001b[0m\u001b[1;33m:\u001b[0m\u001b[1;33m\u001b[0m\u001b[1;33m\u001b[0m\u001b[0m\n\u001b[1;32m--> 382\u001b[1;33m             \u001b[0mself\u001b[0m\u001b[1;33m.\u001b[0m\u001b[0m_validate_conn\u001b[0m\u001b[1;33m(\u001b[0m\u001b[0mconn\u001b[0m\u001b[1;33m)\u001b[0m\u001b[1;33m\u001b[0m\u001b[1;33m\u001b[0m\u001b[0m\n\u001b[0m\u001b[0;32m    383\u001b[0m         \u001b[1;32mexcept\u001b[0m \u001b[1;33m(\u001b[0m\u001b[0mSocketTimeout\u001b[0m\u001b[1;33m,\u001b[0m \u001b[0mBaseSSLError\u001b[0m\u001b[1;33m)\u001b[0m \u001b[1;32mas\u001b[0m \u001b[0me\u001b[0m\u001b[1;33m:\u001b[0m\u001b[1;33m\u001b[0m\u001b[1;33m\u001b[0m\u001b[0m\n\u001b[0;32m    384\u001b[0m             \u001b[1;31m# Py2 raises this as a BaseSSLError, Py3 raises it as socket timeout.\u001b[0m\u001b[1;33m\u001b[0m\u001b[1;33m\u001b[0m\u001b[1;33m\u001b[0m\u001b[0m\n",
      "\u001b[1;32m~\\anaconda3\\lib\\site-packages\\urllib3\\connectionpool.py\u001b[0m in \u001b[0;36m_validate_conn\u001b[1;34m(self, conn)\u001b[0m\n\u001b[0;32m   1008\u001b[0m         \u001b[1;31m# Force connect early to allow us to validate the connection.\u001b[0m\u001b[1;33m\u001b[0m\u001b[1;33m\u001b[0m\u001b[1;33m\u001b[0m\u001b[0m\n\u001b[0;32m   1009\u001b[0m         \u001b[1;32mif\u001b[0m \u001b[1;32mnot\u001b[0m \u001b[0mgetattr\u001b[0m\u001b[1;33m(\u001b[0m\u001b[0mconn\u001b[0m\u001b[1;33m,\u001b[0m \u001b[1;34m\"sock\"\u001b[0m\u001b[1;33m,\u001b[0m \u001b[1;32mNone\u001b[0m\u001b[1;33m)\u001b[0m\u001b[1;33m:\u001b[0m  \u001b[1;31m# AppEngine might not have  `.sock`\u001b[0m\u001b[1;33m\u001b[0m\u001b[1;33m\u001b[0m\u001b[0m\n\u001b[1;32m-> 1010\u001b[1;33m             \u001b[0mconn\u001b[0m\u001b[1;33m.\u001b[0m\u001b[0mconnect\u001b[0m\u001b[1;33m(\u001b[0m\u001b[1;33m)\u001b[0m\u001b[1;33m\u001b[0m\u001b[1;33m\u001b[0m\u001b[0m\n\u001b[0m\u001b[0;32m   1011\u001b[0m \u001b[1;33m\u001b[0m\u001b[0m\n\u001b[0;32m   1012\u001b[0m         \u001b[1;32mif\u001b[0m \u001b[1;32mnot\u001b[0m \u001b[0mconn\u001b[0m\u001b[1;33m.\u001b[0m\u001b[0mis_verified\u001b[0m\u001b[1;33m:\u001b[0m\u001b[1;33m\u001b[0m\u001b[1;33m\u001b[0m\u001b[0m\n",
      "\u001b[1;32m~\\anaconda3\\lib\\site-packages\\urllib3\\connection.py\u001b[0m in \u001b[0;36mconnect\u001b[1;34m(self)\u001b[0m\n\u001b[0;32m    351\u001b[0m     \u001b[1;32mdef\u001b[0m \u001b[0mconnect\u001b[0m\u001b[1;33m(\u001b[0m\u001b[0mself\u001b[0m\u001b[1;33m)\u001b[0m\u001b[1;33m:\u001b[0m\u001b[1;33m\u001b[0m\u001b[1;33m\u001b[0m\u001b[0m\n\u001b[0;32m    352\u001b[0m         \u001b[1;31m# Add certificate verification\u001b[0m\u001b[1;33m\u001b[0m\u001b[1;33m\u001b[0m\u001b[1;33m\u001b[0m\u001b[0m\n\u001b[1;32m--> 353\u001b[1;33m         \u001b[0mconn\u001b[0m \u001b[1;33m=\u001b[0m \u001b[0mself\u001b[0m\u001b[1;33m.\u001b[0m\u001b[0m_new_conn\u001b[0m\u001b[1;33m(\u001b[0m\u001b[1;33m)\u001b[0m\u001b[1;33m\u001b[0m\u001b[1;33m\u001b[0m\u001b[0m\n\u001b[0m\u001b[0;32m    354\u001b[0m         \u001b[0mhostname\u001b[0m \u001b[1;33m=\u001b[0m \u001b[0mself\u001b[0m\u001b[1;33m.\u001b[0m\u001b[0mhost\u001b[0m\u001b[1;33m\u001b[0m\u001b[1;33m\u001b[0m\u001b[0m\n\u001b[0;32m    355\u001b[0m         \u001b[0mtls_in_tls\u001b[0m \u001b[1;33m=\u001b[0m \u001b[1;32mFalse\u001b[0m\u001b[1;33m\u001b[0m\u001b[1;33m\u001b[0m\u001b[0m\n",
      "\u001b[1;32m~\\anaconda3\\lib\\site-packages\\urllib3\\connection.py\u001b[0m in \u001b[0;36m_new_conn\u001b[1;34m(self)\u001b[0m\n\u001b[0;32m    167\u001b[0m \u001b[1;33m\u001b[0m\u001b[0m\n\u001b[0;32m    168\u001b[0m         \u001b[1;32mtry\u001b[0m\u001b[1;33m:\u001b[0m\u001b[1;33m\u001b[0m\u001b[1;33m\u001b[0m\u001b[0m\n\u001b[1;32m--> 169\u001b[1;33m             conn = connection.create_connection(\n\u001b[0m\u001b[0;32m    170\u001b[0m                 \u001b[1;33m(\u001b[0m\u001b[0mself\u001b[0m\u001b[1;33m.\u001b[0m\u001b[0m_dns_host\u001b[0m\u001b[1;33m,\u001b[0m \u001b[0mself\u001b[0m\u001b[1;33m.\u001b[0m\u001b[0mport\u001b[0m\u001b[1;33m)\u001b[0m\u001b[1;33m,\u001b[0m \u001b[0mself\u001b[0m\u001b[1;33m.\u001b[0m\u001b[0mtimeout\u001b[0m\u001b[1;33m,\u001b[0m \u001b[1;33m**\u001b[0m\u001b[0mextra_kw\u001b[0m\u001b[1;33m\u001b[0m\u001b[1;33m\u001b[0m\u001b[0m\n\u001b[0;32m    171\u001b[0m             )\n",
      "\u001b[1;32m~\\anaconda3\\lib\\site-packages\\urllib3\\util\\connection.py\u001b[0m in \u001b[0;36mcreate_connection\u001b[1;34m(address, timeout, source_address, socket_options)\u001b[0m\n\u001b[0;32m     84\u001b[0m             \u001b[1;32mif\u001b[0m \u001b[0msource_address\u001b[0m\u001b[1;33m:\u001b[0m\u001b[1;33m\u001b[0m\u001b[1;33m\u001b[0m\u001b[0m\n\u001b[0;32m     85\u001b[0m                 \u001b[0msock\u001b[0m\u001b[1;33m.\u001b[0m\u001b[0mbind\u001b[0m\u001b[1;33m(\u001b[0m\u001b[0msource_address\u001b[0m\u001b[1;33m)\u001b[0m\u001b[1;33m\u001b[0m\u001b[1;33m\u001b[0m\u001b[0m\n\u001b[1;32m---> 86\u001b[1;33m             \u001b[0msock\u001b[0m\u001b[1;33m.\u001b[0m\u001b[0mconnect\u001b[0m\u001b[1;33m(\u001b[0m\u001b[0msa\u001b[0m\u001b[1;33m)\u001b[0m\u001b[1;33m\u001b[0m\u001b[1;33m\u001b[0m\u001b[0m\n\u001b[0m\u001b[0;32m     87\u001b[0m             \u001b[1;32mreturn\u001b[0m \u001b[0msock\u001b[0m\u001b[1;33m\u001b[0m\u001b[1;33m\u001b[0m\u001b[0m\n\u001b[0;32m     88\u001b[0m \u001b[1;33m\u001b[0m\u001b[0m\n",
      "\u001b[1;31mKeyboardInterrupt\u001b[0m: "
     ]
    }
   ],
   "source": [
    "cnt = 0\n",
    "for i in tqdm(channel_item['channel_id']):\n",
    "    res = requests.get('https://www.youtube.com/channel/'+i)\n",
    "    thumb_id = res.text.find('itemprop=\"thumbnailUrl\"')\n",
    "    if(thumb_id != -1):\n",
    "        print(thumb_id)\n",
    "        url = res.text[thumb_id:thumb_id+300].split('\",\"width\":')[0].split('s\":[{\"url\":\"')[1]\n",
    "        thumb_list.append(url)\n",
    "        channel_list.append(i)\n",
    "    if(banner_id != -1):\n",
    "        banner_id = res.text.find('\"banner\":{\"thu')\n",
    "        url = res.text[thumb_id:thumb_id+300].split('\"><span item')[0].split('Url\" href=\"')[1]\n",
    "        #urllib.request.urlretrieve(url,\"./image/\" + i + \"_thumb.jpg\")\n",
    "        banner_list.append(url)\n",
    "    cnt += 1\n",
    "    if(cnt == 200):\n",
    "        time.sleep(4)\n"
   ]
  },
  {
   "cell_type": "code",
   "execution_count": 41,
   "id": "32c252a8",
   "metadata": {},
   "outputs": [
    {
     "data": {
      "text/plain": [
       "[]"
      ]
     },
     "execution_count": 41,
     "metadata": {},
     "output_type": "execute_result"
    }
   ],
   "source": [
    "thumb_list"
   ]
  },
  {
   "cell_type": "code",
   "execution_count": 37,
   "id": "95bd0d1c",
   "metadata": {},
   "outputs": [
    {
     "data": {
      "text/plain": [
       "[]"
      ]
     },
     "execution_count": 37,
     "metadata": {},
     "output_type": "execute_result"
    }
   ],
   "source": [
    "banner_list"
   ]
  },
  {
   "cell_type": "code",
   "execution_count": 14,
   "id": "5f71c82c",
   "metadata": {},
   "outputs": [
    {
     "data": {
      "text/plain": [
       "'https://yt3.ggpht.com/XpS90WyIcShRUTPGREse1Ice1bBIgWn4w7g9QCWhCFuePeTLpcSRHV-34qVazZZCOuc6ek-wwJY=s900-c-k-c0x00ffffff-no-rj'"
      ]
     },
     "execution_count": 14,
     "metadata": {},
     "output_type": "execute_result"
    }
   ],
   "source": [
    "url"
   ]
  },
  {
   "cell_type": "code",
   "execution_count": 61,
   "id": "de134185",
   "metadata": {},
   "outputs": [
    {
     "data": {
      "text/plain": [
       "1411"
      ]
     },
     "execution_count": 61,
     "metadata": {},
     "output_type": "execute_result"
    }
   ],
   "source": [
    "len(banner_list)"
   ]
  },
  {
   "cell_type": "code",
   "execution_count": 63,
   "id": "285ebfd9",
   "metadata": {},
   "outputs": [],
   "source": [
    "dataframe_list = [channel_list,thumb_list,banner_list]"
   ]
  },
  {
   "cell_type": "code",
   "execution_count": 64,
   "id": "c170c720",
   "metadata": {},
   "outputs": [],
   "source": [
    "df = pd.DataFrame(dataframe_list).T"
   ]
  },
  {
   "cell_type": "code",
   "execution_count": 65,
   "id": "d2519064",
   "metadata": {},
   "outputs": [],
   "source": [
    "df.columns=['channel_id','thumbnail','banner']"
   ]
  },
  {
   "cell_type": "code",
   "execution_count": 66,
   "id": "55ef725e",
   "metadata": {},
   "outputs": [
    {
     "data": {
      "text/html": [
       "<div>\n",
       "<style scoped>\n",
       "    .dataframe tbody tr th:only-of-type {\n",
       "        vertical-align: middle;\n",
       "    }\n",
       "\n",
       "    .dataframe tbody tr th {\n",
       "        vertical-align: top;\n",
       "    }\n",
       "\n",
       "    .dataframe thead th {\n",
       "        text-align: right;\n",
       "    }\n",
       "</style>\n",
       "<table border=\"1\" class=\"dataframe\">\n",
       "  <thead>\n",
       "    <tr style=\"text-align: right;\">\n",
       "      <th></th>\n",
       "      <th>channel_id</th>\n",
       "      <th>thumbnail</th>\n",
       "      <th>banner</th>\n",
       "    </tr>\n",
       "  </thead>\n",
       "  <tbody>\n",
       "    <tr>\n",
       "      <th>0</th>\n",
       "      <td>UC3PWsrbjioPja8B46rMYTKQ</td>\n",
       "      <td>https://yt3.ggpht.com/ytc/AKedOLQjervP-EYcUwez...</td>\n",
       "      <td>https://yt3.ggpht.com/Kccx0HKAgYD3uVcrcbdrJ8Kk...</td>\n",
       "    </tr>\n",
       "    <tr>\n",
       "      <th>1</th>\n",
       "      <td>UC-i_1wXNVaz7DZtsY0rXSyg</td>\n",
       "      <td>https://yt3.ggpht.com/ytc/AKedOLRnqL2TwUgULZRz...</td>\n",
       "      <td>https://yt3.ggpht.com/IAzsAFUMnAMSotFD5cxz4Kh4...</td>\n",
       "    </tr>\n",
       "    <tr>\n",
       "      <th>2</th>\n",
       "      <td>UC4AVc-iIPWIDl6TTi92TS2Q</td>\n",
       "      <td>https://yt3.ggpht.com/LxLumR_NlyagT3SVihLSzwSK...</td>\n",
       "      <td>https://yt3.ggpht.com/vtLmAYkgilggwuDQEEPzOXgM...</td>\n",
       "    </tr>\n",
       "    <tr>\n",
       "      <th>3</th>\n",
       "      <td>UC2DTZleJozzl2wiL1IdPoSQ</td>\n",
       "      <td>https://yt3.ggpht.com/ytc/AKedOLQCwbZDc_kKR7k_...</td>\n",
       "      <td>https://yt3.ggpht.com/QJbjQZWUMYJl_eC3PwtcYXWr...</td>\n",
       "    </tr>\n",
       "    <tr>\n",
       "      <th>4</th>\n",
       "      <td>UC001Pa0g6w6xESLY3TCl4Cw</td>\n",
       "      <td>https://yt3.ggpht.com/ytc/AKedOLRYZw2pVTHtDf44...</td>\n",
       "      <td>https://yt3.ggpht.com/ddcIGeHdmoqaUwnD5qBZSEnW...</td>\n",
       "    </tr>\n",
       "    <tr>\n",
       "      <th>...</th>\n",
       "      <td>...</td>\n",
       "      <td>...</td>\n",
       "      <td>...</td>\n",
       "    </tr>\n",
       "    <tr>\n",
       "      <th>1406</th>\n",
       "      <td>UC3nWcCa3DxwN1gvHS9KQbiQ</td>\n",
       "      <td>https://yt3.ggpht.com/ytc/AKedOLRkBdpr9CLkDU1S...</td>\n",
       "      <td>https://yt3.ggpht.com/BBSxKpwj1DqattWWruglA9j4...</td>\n",
       "    </tr>\n",
       "    <tr>\n",
       "      <th>1407</th>\n",
       "      <td>UC46JB1AKlh7E4qoDq1GE1fA</td>\n",
       "      <td>https://yt3.ggpht.com/6n9yEIw4-8Mottrch1cPPmzV...</td>\n",
       "      <td>https://yt3.ggpht.com/g_9kUx15pgnHnmemNVeipI6R...</td>\n",
       "    </tr>\n",
       "    <tr>\n",
       "      <th>1408</th>\n",
       "      <td>UC2WIpjugL1i1RWzwGaezguA</td>\n",
       "      <td>https://yt3.ggpht.com/ytc/AKedOLTA_u2lKUz4gH2j...</td>\n",
       "      <td>https://yt3.ggpht.com/b9N7BfH3mmUBgN0ILdL-fJqB...</td>\n",
       "    </tr>\n",
       "    <tr>\n",
       "      <th>1409</th>\n",
       "      <td>UC0YU4Idf7OIC4Y2lHgEkEWQ</td>\n",
       "      <td>https://yt3.ggpht.com/ytc/AKedOLQs60hR0noCu9cT...</td>\n",
       "      <td>https://yt3.ggpht.com/667yklMmSkYYtHubiETOdb8S...</td>\n",
       "    </tr>\n",
       "    <tr>\n",
       "      <th>1410</th>\n",
       "      <td>UC0HAHEeJODKM0I2k-bhkOtw</td>\n",
       "      <td>https://yt3.ggpht.com/ytc/AKedOLQJq7iuS1NN6Bfz...</td>\n",
       "      <td>https://yt3.ggpht.com/RMTqsallPVEYDygPjsCtA4Ta...</td>\n",
       "    </tr>\n",
       "  </tbody>\n",
       "</table>\n",
       "<p>1411 rows × 3 columns</p>\n",
       "</div>"
      ],
      "text/plain": [
       "                    channel_id  \\\n",
       "0     UC3PWsrbjioPja8B46rMYTKQ   \n",
       "1     UC-i_1wXNVaz7DZtsY0rXSyg   \n",
       "2     UC4AVc-iIPWIDl6TTi92TS2Q   \n",
       "3     UC2DTZleJozzl2wiL1IdPoSQ   \n",
       "4     UC001Pa0g6w6xESLY3TCl4Cw   \n",
       "...                        ...   \n",
       "1406  UC3nWcCa3DxwN1gvHS9KQbiQ   \n",
       "1407  UC46JB1AKlh7E4qoDq1GE1fA   \n",
       "1408  UC2WIpjugL1i1RWzwGaezguA   \n",
       "1409  UC0YU4Idf7OIC4Y2lHgEkEWQ   \n",
       "1410  UC0HAHEeJODKM0I2k-bhkOtw   \n",
       "\n",
       "                                              thumbnail  \\\n",
       "0     https://yt3.ggpht.com/ytc/AKedOLQjervP-EYcUwez...   \n",
       "1     https://yt3.ggpht.com/ytc/AKedOLRnqL2TwUgULZRz...   \n",
       "2     https://yt3.ggpht.com/LxLumR_NlyagT3SVihLSzwSK...   \n",
       "3     https://yt3.ggpht.com/ytc/AKedOLQCwbZDc_kKR7k_...   \n",
       "4     https://yt3.ggpht.com/ytc/AKedOLRYZw2pVTHtDf44...   \n",
       "...                                                 ...   \n",
       "1406  https://yt3.ggpht.com/ytc/AKedOLRkBdpr9CLkDU1S...   \n",
       "1407  https://yt3.ggpht.com/6n9yEIw4-8Mottrch1cPPmzV...   \n",
       "1408  https://yt3.ggpht.com/ytc/AKedOLTA_u2lKUz4gH2j...   \n",
       "1409  https://yt3.ggpht.com/ytc/AKedOLQs60hR0noCu9cT...   \n",
       "1410  https://yt3.ggpht.com/ytc/AKedOLQJq7iuS1NN6Bfz...   \n",
       "\n",
       "                                                 banner  \n",
       "0     https://yt3.ggpht.com/Kccx0HKAgYD3uVcrcbdrJ8Kk...  \n",
       "1     https://yt3.ggpht.com/IAzsAFUMnAMSotFD5cxz4Kh4...  \n",
       "2     https://yt3.ggpht.com/vtLmAYkgilggwuDQEEPzOXgM...  \n",
       "3     https://yt3.ggpht.com/QJbjQZWUMYJl_eC3PwtcYXWr...  \n",
       "4     https://yt3.ggpht.com/ddcIGeHdmoqaUwnD5qBZSEnW...  \n",
       "...                                                 ...  \n",
       "1406  https://yt3.ggpht.com/BBSxKpwj1DqattWWruglA9j4...  \n",
       "1407  https://yt3.ggpht.com/g_9kUx15pgnHnmemNVeipI6R...  \n",
       "1408  https://yt3.ggpht.com/b9N7BfH3mmUBgN0ILdL-fJqB...  \n",
       "1409  https://yt3.ggpht.com/667yklMmSkYYtHubiETOdb8S...  \n",
       "1410  https://yt3.ggpht.com/RMTqsallPVEYDygPjsCtA4Ta...  \n",
       "\n",
       "[1411 rows x 3 columns]"
      ]
     },
     "execution_count": 66,
     "metadata": {},
     "output_type": "execute_result"
    }
   ],
   "source": [
    "df"
   ]
  },
  {
   "cell_type": "code",
   "execution_count": 39,
   "id": "93ef833d",
   "metadata": {},
   "outputs": [],
   "source": [
    "ddf = pd.read_csv('./thumb_list.csv',encoding='utf-8-sig')"
   ]
  },
  {
   "cell_type": "code",
   "execution_count": 45,
   "id": "aa52ead4",
   "metadata": {},
   "outputs": [
    {
     "data": {
      "text/html": [
       "<div>\n",
       "<style scoped>\n",
       "    .dataframe tbody tr th:only-of-type {\n",
       "        vertical-align: middle;\n",
       "    }\n",
       "\n",
       "    .dataframe tbody tr th {\n",
       "        vertical-align: top;\n",
       "    }\n",
       "\n",
       "    .dataframe thead th {\n",
       "        text-align: right;\n",
       "    }\n",
       "</style>\n",
       "<table border=\"1\" class=\"dataframe\">\n",
       "  <thead>\n",
       "    <tr style=\"text-align: right;\">\n",
       "      <th></th>\n",
       "      <th>channel_id</th>\n",
       "      <th>thumbnail</th>\n",
       "      <th>banner</th>\n",
       "    </tr>\n",
       "  </thead>\n",
       "  <tbody>\n",
       "    <tr>\n",
       "      <th>0</th>\n",
       "      <td>UCLHz2s5VkPasGaY2ZPW4D4w</td>\n",
       "      <td>https://yt3.ggpht.com/fJUgoweVLnducaMz89eMCKuD...</td>\n",
       "      <td>https://yt3.ggpht.com/p2qUVVtvDbq-OIFRfL92mPcL...</td>\n",
       "    </tr>\n",
       "    <tr>\n",
       "      <th>1</th>\n",
       "      <td>UCLHzfbJk4ZxoVo5AFZTSLSQ</td>\n",
       "      <td>https://yt3.ggpht.com/Y6-PZHfgy8bYtig2hTg2Yqdb...</td>\n",
       "      <td>https://yt3.ggpht.com/fq7DmiO_cUKe14S_pJk_oo0Z...</td>\n",
       "    </tr>\n",
       "    <tr>\n",
       "      <th>2</th>\n",
       "      <td>UCLIDZx7uyWDdQh4WiRF--nw</td>\n",
       "      <td>https://yt3.ggpht.com/ytc/AKedOLTtti-MDSRrAqrT...</td>\n",
       "      <td>https://yt3.ggpht.com/SRilwRpjit-iwJ0EEAC_6aFW...</td>\n",
       "    </tr>\n",
       "    <tr>\n",
       "      <th>3</th>\n",
       "      <td>UCLINS6tLCiHyBWwiHHzhdGQ</td>\n",
       "      <td>https://yt3.ggpht.com/ytc/AKedOLRg8yac7hBQ6MXN...</td>\n",
       "      <td>https://yt3.ggpht.com/gl4UzNuV2HJjBFzpISuqOXZu...</td>\n",
       "    </tr>\n",
       "    <tr>\n",
       "      <th>4</th>\n",
       "      <td>UCLIf7SU9lya2EIi0O5RxYjA</td>\n",
       "      <td>https://yt3.ggpht.com/ytc/AKedOLQtF0U4oMaEa2N3...</td>\n",
       "      <td>https://yt3.ggpht.com/H-e2nM0CkvtdVeFQu5hOFRS4...</td>\n",
       "    </tr>\n",
       "    <tr>\n",
       "      <th>...</th>\n",
       "      <td>...</td>\n",
       "      <td>...</td>\n",
       "      <td>...</td>\n",
       "    </tr>\n",
       "    <tr>\n",
       "      <th>10762</th>\n",
       "      <td>UCzzQvh7GqJ7xoylpuU15VaA</td>\n",
       "      <td>https://yt3.ggpht.com/ytc/AKedOLT2y9R3wjvNg3Fo...</td>\n",
       "      <td>https://yt3.ggpht.com/MXFyBRufaqfg7Z-PwQGRQMME...</td>\n",
       "    </tr>\n",
       "    <tr>\n",
       "      <th>10763</th>\n",
       "      <td>UCzzsPLVj67qyXrVcGmewSmg</td>\n",
       "      <td>https://yt3.ggpht.com/ytc/AKedOLTF0gO24pp54dfA...</td>\n",
       "      <td>https://yt3.ggpht.com/-RHaTgGjkIK7ISoRSxf2Vgvt...</td>\n",
       "    </tr>\n",
       "    <tr>\n",
       "      <th>10764</th>\n",
       "      <td>UCzzt6bFEBcy-CoZeFvTSq0A</td>\n",
       "      <td>https://yt3.ggpht.com/ytc/AKedOLT4_bxN0AaoWYWi...</td>\n",
       "      <td>https://yt3.ggpht.com/IKUlZeu9EfMQvQQczcJl76g7...</td>\n",
       "    </tr>\n",
       "    <tr>\n",
       "      <th>10765</th>\n",
       "      <td>UCzzt9YrAmPsya3zBMmS9Nmw</td>\n",
       "      <td>https://yt3.ggpht.com/6SWwJLjiPZtooEyvhcf4_uxH...</td>\n",
       "      <td>https://yt3.ggpht.com/-msu5nCaJiKwAiq8va-PhRm5...</td>\n",
       "    </tr>\n",
       "    <tr>\n",
       "      <th>10766</th>\n",
       "      <td>UCzztPvTc6mfxKji1AkyROgw</td>\n",
       "      <td>https://yt3.ggpht.com/ytc/AKedOLQ_BpNisS-EbYLg...</td>\n",
       "      <td>https://yt3.ggpht.com/LoPnZ2qNQgkiujLqzvsJLki6...</td>\n",
       "    </tr>\n",
       "  </tbody>\n",
       "</table>\n",
       "<p>10767 rows × 3 columns</p>\n",
       "</div>"
      ],
      "text/plain": [
       "                     channel_id  \\\n",
       "0      UCLHz2s5VkPasGaY2ZPW4D4w   \n",
       "1      UCLHzfbJk4ZxoVo5AFZTSLSQ   \n",
       "2      UCLIDZx7uyWDdQh4WiRF--nw   \n",
       "3      UCLINS6tLCiHyBWwiHHzhdGQ   \n",
       "4      UCLIf7SU9lya2EIi0O5RxYjA   \n",
       "...                         ...   \n",
       "10762  UCzzQvh7GqJ7xoylpuU15VaA   \n",
       "10763  UCzzsPLVj67qyXrVcGmewSmg   \n",
       "10764  UCzzt6bFEBcy-CoZeFvTSq0A   \n",
       "10765  UCzzt9YrAmPsya3zBMmS9Nmw   \n",
       "10766  UCzztPvTc6mfxKji1AkyROgw   \n",
       "\n",
       "                                               thumbnail  \\\n",
       "0      https://yt3.ggpht.com/fJUgoweVLnducaMz89eMCKuD...   \n",
       "1      https://yt3.ggpht.com/Y6-PZHfgy8bYtig2hTg2Yqdb...   \n",
       "2      https://yt3.ggpht.com/ytc/AKedOLTtti-MDSRrAqrT...   \n",
       "3      https://yt3.ggpht.com/ytc/AKedOLRg8yac7hBQ6MXN...   \n",
       "4      https://yt3.ggpht.com/ytc/AKedOLQtF0U4oMaEa2N3...   \n",
       "...                                                  ...   \n",
       "10762  https://yt3.ggpht.com/ytc/AKedOLT2y9R3wjvNg3Fo...   \n",
       "10763  https://yt3.ggpht.com/ytc/AKedOLTF0gO24pp54dfA...   \n",
       "10764  https://yt3.ggpht.com/ytc/AKedOLT4_bxN0AaoWYWi...   \n",
       "10765  https://yt3.ggpht.com/6SWwJLjiPZtooEyvhcf4_uxH...   \n",
       "10766  https://yt3.ggpht.com/ytc/AKedOLQ_BpNisS-EbYLg...   \n",
       "\n",
       "                                                  banner  \n",
       "0      https://yt3.ggpht.com/p2qUVVtvDbq-OIFRfL92mPcL...  \n",
       "1      https://yt3.ggpht.com/fq7DmiO_cUKe14S_pJk_oo0Z...  \n",
       "2      https://yt3.ggpht.com/SRilwRpjit-iwJ0EEAC_6aFW...  \n",
       "3      https://yt3.ggpht.com/gl4UzNuV2HJjBFzpISuqOXZu...  \n",
       "4      https://yt3.ggpht.com/H-e2nM0CkvtdVeFQu5hOFRS4...  \n",
       "...                                                  ...  \n",
       "10762  https://yt3.ggpht.com/MXFyBRufaqfg7Z-PwQGRQMME...  \n",
       "10763  https://yt3.ggpht.com/-RHaTgGjkIK7ISoRSxf2Vgvt...  \n",
       "10764  https://yt3.ggpht.com/IKUlZeu9EfMQvQQczcJl76g7...  \n",
       "10765  https://yt3.ggpht.com/-msu5nCaJiKwAiq8va-PhRm5...  \n",
       "10766  https://yt3.ggpht.com/LoPnZ2qNQgkiujLqzvsJLki6...  \n",
       "\n",
       "[10767 rows x 3 columns]"
      ]
     },
     "execution_count": 45,
     "metadata": {},
     "output_type": "execute_result"
    }
   ],
   "source": [
    "df"
   ]
  },
  {
   "cell_type": "code",
   "execution_count": 40,
   "id": "84c9fb4c",
   "metadata": {},
   "outputs": [
    {
     "data": {
      "text/html": [
       "<div>\n",
       "<style scoped>\n",
       "    .dataframe tbody tr th:only-of-type {\n",
       "        vertical-align: middle;\n",
       "    }\n",
       "\n",
       "    .dataframe tbody tr th {\n",
       "        vertical-align: top;\n",
       "    }\n",
       "\n",
       "    .dataframe thead th {\n",
       "        text-align: right;\n",
       "    }\n",
       "</style>\n",
       "<table border=\"1\" class=\"dataframe\">\n",
       "  <thead>\n",
       "    <tr style=\"text-align: right;\">\n",
       "      <th></th>\n",
       "      <th>0</th>\n",
       "      <th>1</th>\n",
       "      <th>2</th>\n",
       "    </tr>\n",
       "  </thead>\n",
       "  <tbody>\n",
       "    <tr>\n",
       "      <th>0</th>\n",
       "      <td>UC4GyDjDRL6_yZPfmSqKgFEA</td>\n",
       "      <td>https://yt3.ggpht.com/ytc/AKedOLTZqGoDCHUulUth...</td>\n",
       "      <td>https://yt3.ggpht.com/atzweTnVc84S2lWhQrVaJCIA...</td>\n",
       "    </tr>\n",
       "    <tr>\n",
       "      <th>1</th>\n",
       "      <td>UC4HoagmeHgpzoeXnR2HWx1A</td>\n",
       "      <td>https://yt3.ggpht.com/ytc/AKedOLTjqMybuRCGWduk...</td>\n",
       "      <td>https://yt3.ggpht.com/q-ox3A27HLxabsH0ZMtuYzLm...</td>\n",
       "    </tr>\n",
       "    <tr>\n",
       "      <th>2</th>\n",
       "      <td>UC4ImpO-pN244j5ujUnKhwpQ</td>\n",
       "      <td>https://yt3.ggpht.com/ytc/AKedOLTaubvzsJyex9_s...</td>\n",
       "      <td>https://yt3.ggpht.com/BHDYbh-ajaqxjQ9ioAzeXhkD...</td>\n",
       "    </tr>\n",
       "    <tr>\n",
       "      <th>3</th>\n",
       "      <td>UC4J0EMQCa9lrQV6rDe_MRsA</td>\n",
       "      <td>https://yt3.ggpht.com/ytc/AKedOLQ4fPrsYand_ACf...</td>\n",
       "      <td>https://yt3.ggpht.com/XU9xCE1qln36vOIrA9hUflzM...</td>\n",
       "    </tr>\n",
       "    <tr>\n",
       "      <th>4</th>\n",
       "      <td>UC4JAFOuj4XMa2MSBUhMXmmA</td>\n",
       "      <td>https://yt3.ggpht.com/Uw5WL1yZMLCYq-3UrKdY6J0d...</td>\n",
       "      <td>https://yt3.ggpht.com/JnvHnh_HVpxd9SHd_I9BZyN_...</td>\n",
       "    </tr>\n",
       "    <tr>\n",
       "      <th>...</th>\n",
       "      <td>...</td>\n",
       "      <td>...</td>\n",
       "      <td>...</td>\n",
       "    </tr>\n",
       "    <tr>\n",
       "      <th>5414</th>\n",
       "      <td>UCPHmwZzXELwZ-2LT-BqrAvA</td>\n",
       "      <td>https://yt3.ggpht.com/ytc/AKedOLQGp8YdiPrPGmG4...</td>\n",
       "      <td>https://yt3.ggpht.com/Zwun9LsG5fDygh-4IqkO-vSN...</td>\n",
       "    </tr>\n",
       "    <tr>\n",
       "      <th>5415</th>\n",
       "      <td>UCPHt56f4p6wVsPIDttxXZ2g</td>\n",
       "      <td>https://yt3.ggpht.com/J2K_Jh53PNqGkCVeUs9e2e64...</td>\n",
       "      <td>https://yt3.ggpht.com/Vs9bypbFFSISTzx-1ukctPrx...</td>\n",
       "    </tr>\n",
       "    <tr>\n",
       "      <th>5416</th>\n",
       "      <td>UCPI4MWKCmNca6vnzDJagByA</td>\n",
       "      <td>https://yt3.ggpht.com/ytc/AKedOLTv_KMXD-9RQ_BP...</td>\n",
       "      <td>https://yt3.ggpht.com/ugX5j8itoiMvPMqQOQ2hjmzp...</td>\n",
       "    </tr>\n",
       "    <tr>\n",
       "      <th>5417</th>\n",
       "      <td>UCPIbtWFpVMI-tCNWZ4vlL7Q</td>\n",
       "      <td>https://yt3.ggpht.com/ytc/AKedOLQnxHA_1KNSh0y6...</td>\n",
       "      <td>https://yt3.ggpht.com/iRyQ5xgGB-zoLbxrIl_cdIUD...</td>\n",
       "    </tr>\n",
       "    <tr>\n",
       "      <th>5418</th>\n",
       "      <td>UCPJL0oXjcYSHq5SP6SKHIIw</td>\n",
       "      <td>https://yt3.ggpht.com/ytc/AKedOLTp7RF5lEO6pwYs...</td>\n",
       "      <td>https://yt3.ggpht.com/bHuSUFsDvXDG8IzM66O0-CoB...</td>\n",
       "    </tr>\n",
       "  </tbody>\n",
       "</table>\n",
       "<p>5419 rows × 3 columns</p>\n",
       "</div>"
      ],
      "text/plain": [
       "                             0  \\\n",
       "0     UC4GyDjDRL6_yZPfmSqKgFEA   \n",
       "1     UC4HoagmeHgpzoeXnR2HWx1A   \n",
       "2     UC4ImpO-pN244j5ujUnKhwpQ   \n",
       "3     UC4J0EMQCa9lrQV6rDe_MRsA   \n",
       "4     UC4JAFOuj4XMa2MSBUhMXmmA   \n",
       "...                        ...   \n",
       "5414  UCPHmwZzXELwZ-2LT-BqrAvA   \n",
       "5415  UCPHt56f4p6wVsPIDttxXZ2g   \n",
       "5416  UCPI4MWKCmNca6vnzDJagByA   \n",
       "5417  UCPIbtWFpVMI-tCNWZ4vlL7Q   \n",
       "5418  UCPJL0oXjcYSHq5SP6SKHIIw   \n",
       "\n",
       "                                                      1  \\\n",
       "0     https://yt3.ggpht.com/ytc/AKedOLTZqGoDCHUulUth...   \n",
       "1     https://yt3.ggpht.com/ytc/AKedOLTjqMybuRCGWduk...   \n",
       "2     https://yt3.ggpht.com/ytc/AKedOLTaubvzsJyex9_s...   \n",
       "3     https://yt3.ggpht.com/ytc/AKedOLQ4fPrsYand_ACf...   \n",
       "4     https://yt3.ggpht.com/Uw5WL1yZMLCYq-3UrKdY6J0d...   \n",
       "...                                                 ...   \n",
       "5414  https://yt3.ggpht.com/ytc/AKedOLQGp8YdiPrPGmG4...   \n",
       "5415  https://yt3.ggpht.com/J2K_Jh53PNqGkCVeUs9e2e64...   \n",
       "5416  https://yt3.ggpht.com/ytc/AKedOLTv_KMXD-9RQ_BP...   \n",
       "5417  https://yt3.ggpht.com/ytc/AKedOLQnxHA_1KNSh0y6...   \n",
       "5418  https://yt3.ggpht.com/ytc/AKedOLTp7RF5lEO6pwYs...   \n",
       "\n",
       "                                                      2  \n",
       "0     https://yt3.ggpht.com/atzweTnVc84S2lWhQrVaJCIA...  \n",
       "1     https://yt3.ggpht.com/q-ox3A27HLxabsH0ZMtuYzLm...  \n",
       "2     https://yt3.ggpht.com/BHDYbh-ajaqxjQ9ioAzeXhkD...  \n",
       "3     https://yt3.ggpht.com/XU9xCE1qln36vOIrA9hUflzM...  \n",
       "4     https://yt3.ggpht.com/JnvHnh_HVpxd9SHd_I9BZyN_...  \n",
       "...                                                 ...  \n",
       "5414  https://yt3.ggpht.com/Zwun9LsG5fDygh-4IqkO-vSN...  \n",
       "5415  https://yt3.ggpht.com/Vs9bypbFFSISTzx-1ukctPrx...  \n",
       "5416  https://yt3.ggpht.com/ugX5j8itoiMvPMqQOQ2hjmzp...  \n",
       "5417  https://yt3.ggpht.com/iRyQ5xgGB-zoLbxrIl_cdIUD...  \n",
       "5418  https://yt3.ggpht.com/bHuSUFsDvXDG8IzM66O0-CoB...  \n",
       "\n",
       "[5419 rows x 3 columns]"
      ]
     },
     "execution_count": 40,
     "metadata": {},
     "output_type": "execute_result"
    }
   ],
   "source": [
    "ddf"
   ]
  },
  {
   "cell_type": "code",
   "execution_count": 46,
   "id": "6f38cd12",
   "metadata": {},
   "outputs": [],
   "source": [
    "ddf.columns = ['channel_id','thumbnail','banner']"
   ]
  },
  {
   "cell_type": "code",
   "execution_count": 67,
   "id": "203b8047",
   "metadata": {},
   "outputs": [
    {
     "name": "stderr",
     "output_type": "stream",
     "text": [
      "<ipython-input-67-70263e9aba82>:1: FutureWarning: In a future version of pandas all arguments of concat except for the argument 'objs' will be keyword-only\n",
      "  ddddf = pd.concat([df,dddf],0)\n"
     ]
    }
   ],
   "source": [
    "ddddf = pd.concat([df,dddf],0)"
   ]
  },
  {
   "cell_type": "code",
   "execution_count": 68,
   "id": "7bf2bc80",
   "metadata": {},
   "outputs": [
    {
     "data": {
      "text/html": [
       "<div>\n",
       "<style scoped>\n",
       "    .dataframe tbody tr th:only-of-type {\n",
       "        vertical-align: middle;\n",
       "    }\n",
       "\n",
       "    .dataframe tbody tr th {\n",
       "        vertical-align: top;\n",
       "    }\n",
       "\n",
       "    .dataframe thead th {\n",
       "        text-align: right;\n",
       "    }\n",
       "</style>\n",
       "<table border=\"1\" class=\"dataframe\">\n",
       "  <thead>\n",
       "    <tr style=\"text-align: right;\">\n",
       "      <th></th>\n",
       "      <th>channel_id</th>\n",
       "      <th>thumbnail</th>\n",
       "      <th>banner</th>\n",
       "    </tr>\n",
       "  </thead>\n",
       "  <tbody>\n",
       "    <tr>\n",
       "      <th>0</th>\n",
       "      <td>UC3PWsrbjioPja8B46rMYTKQ</td>\n",
       "      <td>https://yt3.ggpht.com/ytc/AKedOLQjervP-EYcUwez...</td>\n",
       "      <td>https://yt3.ggpht.com/Kccx0HKAgYD3uVcrcbdrJ8Kk...</td>\n",
       "    </tr>\n",
       "    <tr>\n",
       "      <th>1</th>\n",
       "      <td>UC-i_1wXNVaz7DZtsY0rXSyg</td>\n",
       "      <td>https://yt3.ggpht.com/ytc/AKedOLRnqL2TwUgULZRz...</td>\n",
       "      <td>https://yt3.ggpht.com/IAzsAFUMnAMSotFD5cxz4Kh4...</td>\n",
       "    </tr>\n",
       "    <tr>\n",
       "      <th>2</th>\n",
       "      <td>UC4AVc-iIPWIDl6TTi92TS2Q</td>\n",
       "      <td>https://yt3.ggpht.com/LxLumR_NlyagT3SVihLSzwSK...</td>\n",
       "      <td>https://yt3.ggpht.com/vtLmAYkgilggwuDQEEPzOXgM...</td>\n",
       "    </tr>\n",
       "    <tr>\n",
       "      <th>3</th>\n",
       "      <td>UC2DTZleJozzl2wiL1IdPoSQ</td>\n",
       "      <td>https://yt3.ggpht.com/ytc/AKedOLQCwbZDc_kKR7k_...</td>\n",
       "      <td>https://yt3.ggpht.com/QJbjQZWUMYJl_eC3PwtcYXWr...</td>\n",
       "    </tr>\n",
       "    <tr>\n",
       "      <th>4</th>\n",
       "      <td>UC001Pa0g6w6xESLY3TCl4Cw</td>\n",
       "      <td>https://yt3.ggpht.com/ytc/AKedOLRYZw2pVTHtDf44...</td>\n",
       "      <td>https://yt3.ggpht.com/ddcIGeHdmoqaUwnD5qBZSEnW...</td>\n",
       "    </tr>\n",
       "    <tr>\n",
       "      <th>...</th>\n",
       "      <td>...</td>\n",
       "      <td>...</td>\n",
       "      <td>...</td>\n",
       "    </tr>\n",
       "    <tr>\n",
       "      <th>4357</th>\n",
       "      <td>UCLGFyHp-wUhKrmNJBWZg75A</td>\n",
       "      <td>https://yt3.ggpht.com/vdzYHAN9VX-ttz6DQhVnmD60...</td>\n",
       "      <td>https://yt3.ggpht.com/87j7rnCn0YZfHjdsI3XxFwjM...</td>\n",
       "    </tr>\n",
       "    <tr>\n",
       "      <th>4358</th>\n",
       "      <td>UCLGNJmT2wtLIyjsQ3MopxuA</td>\n",
       "      <td>https://yt3.ggpht.com/ytc/AKedOLRh2HpOi0Uloh9-...</td>\n",
       "      <td>https://yt3.ggpht.com/R6yTnFwFC6PBISVbIpRMGtCd...</td>\n",
       "    </tr>\n",
       "    <tr>\n",
       "      <th>4359</th>\n",
       "      <td>UCLGdch_vwsQ6H5k-_O9vMRg</td>\n",
       "      <td>https://yt3.ggpht.com/WNhY6hf-lF98Xvml61914sjS...</td>\n",
       "      <td>https://yt3.ggpht.com/U1e7ALkFtoLsy09_VNXdXP5F...</td>\n",
       "    </tr>\n",
       "    <tr>\n",
       "      <th>4360</th>\n",
       "      <td>UCLH1kOXC0wBah9o6NeOroYw</td>\n",
       "      <td>https://yt3.ggpht.com/ytc/AKedOLQOqysB_LYrPxkG...</td>\n",
       "      <td>https://yt3.ggpht.com/LlHa0fgC3t4jPFWaF8W9DxyA...</td>\n",
       "    </tr>\n",
       "    <tr>\n",
       "      <th>4361</th>\n",
       "      <td>UCLHwMFguUxHVSk91vzicEJw</td>\n",
       "      <td>https://yt3.ggpht.com/ytc/AKedOLTVLHxsNEu0EySc...</td>\n",
       "      <td>https://yt3.ggpht.com/ztiCdyzMrgwFRaS8AXzbY0xc...</td>\n",
       "    </tr>\n",
       "  </tbody>\n",
       "</table>\n",
       "<p>16540 rows × 3 columns</p>\n",
       "</div>"
      ],
      "text/plain": [
       "                    channel_id  \\\n",
       "0     UC3PWsrbjioPja8B46rMYTKQ   \n",
       "1     UC-i_1wXNVaz7DZtsY0rXSyg   \n",
       "2     UC4AVc-iIPWIDl6TTi92TS2Q   \n",
       "3     UC2DTZleJozzl2wiL1IdPoSQ   \n",
       "4     UC001Pa0g6w6xESLY3TCl4Cw   \n",
       "...                        ...   \n",
       "4357  UCLGFyHp-wUhKrmNJBWZg75A   \n",
       "4358  UCLGNJmT2wtLIyjsQ3MopxuA   \n",
       "4359  UCLGdch_vwsQ6H5k-_O9vMRg   \n",
       "4360  UCLH1kOXC0wBah9o6NeOroYw   \n",
       "4361  UCLHwMFguUxHVSk91vzicEJw   \n",
       "\n",
       "                                              thumbnail  \\\n",
       "0     https://yt3.ggpht.com/ytc/AKedOLQjervP-EYcUwez...   \n",
       "1     https://yt3.ggpht.com/ytc/AKedOLRnqL2TwUgULZRz...   \n",
       "2     https://yt3.ggpht.com/LxLumR_NlyagT3SVihLSzwSK...   \n",
       "3     https://yt3.ggpht.com/ytc/AKedOLQCwbZDc_kKR7k_...   \n",
       "4     https://yt3.ggpht.com/ytc/AKedOLRYZw2pVTHtDf44...   \n",
       "...                                                 ...   \n",
       "4357  https://yt3.ggpht.com/vdzYHAN9VX-ttz6DQhVnmD60...   \n",
       "4358  https://yt3.ggpht.com/ytc/AKedOLRh2HpOi0Uloh9-...   \n",
       "4359  https://yt3.ggpht.com/WNhY6hf-lF98Xvml61914sjS...   \n",
       "4360  https://yt3.ggpht.com/ytc/AKedOLQOqysB_LYrPxkG...   \n",
       "4361  https://yt3.ggpht.com/ytc/AKedOLTVLHxsNEu0EySc...   \n",
       "\n",
       "                                                 banner  \n",
       "0     https://yt3.ggpht.com/Kccx0HKAgYD3uVcrcbdrJ8Kk...  \n",
       "1     https://yt3.ggpht.com/IAzsAFUMnAMSotFD5cxz4Kh4...  \n",
       "2     https://yt3.ggpht.com/vtLmAYkgilggwuDQEEPzOXgM...  \n",
       "3     https://yt3.ggpht.com/QJbjQZWUMYJl_eC3PwtcYXWr...  \n",
       "4     https://yt3.ggpht.com/ddcIGeHdmoqaUwnD5qBZSEnW...  \n",
       "...                                                 ...  \n",
       "4357  https://yt3.ggpht.com/87j7rnCn0YZfHjdsI3XxFwjM...  \n",
       "4358  https://yt3.ggpht.com/R6yTnFwFC6PBISVbIpRMGtCd...  \n",
       "4359  https://yt3.ggpht.com/U1e7ALkFtoLsy09_VNXdXP5F...  \n",
       "4360  https://yt3.ggpht.com/LlHa0fgC3t4jPFWaF8W9DxyA...  \n",
       "4361  https://yt3.ggpht.com/ztiCdyzMrgwFRaS8AXzbY0xc...  \n",
       "\n",
       "[16540 rows x 3 columns]"
      ]
     },
     "execution_count": 68,
     "metadata": {},
     "output_type": "execute_result"
    }
   ],
   "source": [
    "ddddf.drop_duplicates()"
   ]
  },
  {
   "cell_type": "code",
   "execution_count": 69,
   "id": "f1834928",
   "metadata": {},
   "outputs": [],
   "source": [
    "ddddf.drop_duplicates().to_csv('thumbnail_banner.csv',encoding='utf-8-sig',index=False)"
   ]
  },
  {
   "cell_type": "code",
   "execution_count": 41,
   "id": "2db416ee",
   "metadata": {},
   "outputs": [
    {
     "data": {
      "text/plain": [
       "0       UC4GyDjDRL6_yZPfmSqKgFEA\n",
       "1       UC4HoagmeHgpzoeXnR2HWx1A\n",
       "2       UC4ImpO-pN244j5ujUnKhwpQ\n",
       "3       UC4J0EMQCa9lrQV6rDe_MRsA\n",
       "4       UC4JAFOuj4XMa2MSBUhMXmmA\n",
       "                  ...           \n",
       "5414    UCPHmwZzXELwZ-2LT-BqrAvA\n",
       "5415    UCPHt56f4p6wVsPIDttxXZ2g\n",
       "5416    UCPI4MWKCmNca6vnzDJagByA\n",
       "5417    UCPIbtWFpVMI-tCNWZ4vlL7Q\n",
       "5418    UCPJL0oXjcYSHq5SP6SKHIIw\n",
       "Name: 0, Length: 5419, dtype: object"
      ]
     },
     "execution_count": 41,
     "metadata": {},
     "output_type": "execute_result"
    }
   ],
   "source": [
    "ddf['0']"
   ]
  },
  {
   "cell_type": "code",
   "execution_count": 70,
   "id": "2d6f0af8",
   "metadata": {},
   "outputs": [],
   "source": [
    "ourLink = list(set(df_filter['channel_id'].tolist()) - set(ddddf['channel_id']))"
   ]
  },
  {
   "cell_type": "code",
   "execution_count": 71,
   "id": "299a0f2e",
   "metadata": {},
   "outputs": [
    {
     "data": {
      "text/plain": [
       "1314"
      ]
     },
     "execution_count": 71,
     "metadata": {},
     "output_type": "execute_result"
    }
   ],
   "source": [
    "len(ourLink)"
   ]
  },
  {
   "cell_type": "code",
   "execution_count": 44,
   "id": "9b41f3b8",
   "metadata": {},
   "outputs": [
    {
     "data": {
      "text/plain": [
       "1057"
      ]
     },
     "execution_count": 44,
     "metadata": {},
     "output_type": "execute_result"
    }
   ],
   "source": [
    "len(set(list(ddf['0'])) - set(ourLink))"
   ]
  },
  {
   "cell_type": "code",
   "execution_count": 57,
   "id": "41dd9ca8",
   "metadata": {},
   "outputs": [],
   "source": [
    "pd.DataFrame(ourLink).to_csv('ourlink.csv',encoding='utf-8-sig',index=False)"
   ]
  },
  {
   "cell_type": "code",
   "execution_count": null,
   "id": "2249951e",
   "metadata": {},
   "outputs": [],
   "source": []
  },
  {
   "cell_type": "code",
   "execution_count": null,
   "id": "181fdf4a",
   "metadata": {},
   "outputs": [],
   "source": []
  }
 ],
 "metadata": {
  "kernelspec": {
   "display_name": "Python 3",
   "language": "python",
   "name": "python3"
  },
  "language_info": {
   "codemirror_mode": {
    "name": "ipython",
    "version": 3
   },
   "file_extension": ".py",
   "mimetype": "text/x-python",
   "name": "python",
   "nbconvert_exporter": "python",
   "pygments_lexer": "ipython3",
   "version": "3.8.8"
  }
 },
 "nbformat": 4,
 "nbformat_minor": 5
}
