dur_dic = {}
for v_id in tqdm(np.array(row[start_num:end_num])):
    url = 'https://www.youtube.com/embed/'+v_id
    response = requests.get(url)
    #print(response.status_code)
    if response.status_code == 200:
        html = response.text
        soup = BeautifulSoup(html, 'html.parser')
        vs = str(soup).find('videoDurationSeconds')
        if(vs > 0):
            video_duration = str(soup)[vs:vs+40].split(',')[0].split(':')[1]
            video_duration = ''.join(filter(str.isalnum, video_duration))
            dur_dic[v_id] = video_duration
        else:
            continue
