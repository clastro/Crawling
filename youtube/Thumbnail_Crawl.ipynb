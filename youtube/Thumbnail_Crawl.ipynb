df_filter['channel_id']
0        UC--Vjom9AbabcCMzRLRo0vQ
1        UC-0229MiVYnQoUxdLJnFl_g
2        UC-0JYXUFvDy2wlrBXazqz0w
3        UC-0tICWyA0_AJAVMBHL8GdQ
4        UC-1OBOWjQTHpkWhvgPAo1Fg
                   ...           
17849    UCzzsPLVj67qyXrVcGmewSmg
17850    UCzzt6bFEBcy-CoZeFvTSq0A
17851    UCzzt9YrAmPsya3zBMmS9Nmw
17852    UCzztPvTc6mfxKji1AkyROgw
17853    UCzztzqBv_dJjo9MV4yhiAAw
Name: channel_id, Length: 17854, dtype: object


thumb_list = []
banner_list = []
channel_list = []
cnt = 0
for i in tqdm(channel_item['channel_id']):
    res = requests.get('https://www.youtube.com/channel/'+i)
    thumb_id = res.text.find('itemprop="thumbnailUrl"')
    if(thumb_id != -1):
        print(thumb_id)
        url = res.text[thumb_id:thumb_id+300].split('","width":')[0].split('s":[{"url":"')[1]
        thumb_list.append(url)
        channel_list.append(i)
    if(banner_id != -1):
        banner_id = res.text.find('"banner":{"thu')
        url = res.text[thumb_id:thumb_id+300].split('"><span item')[0].split('Url" href="')[1]
        #urllib.request.urlretrieve(url,"./image/" + i + "_thumb.jpg")
        banner_list.append(url)
    cnt += 1
    if(cnt == 200):
        time.sleep(4)
