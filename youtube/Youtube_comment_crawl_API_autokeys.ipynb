import pandas as pd
import numpy as np
import time
import re 
import pymysql
from apiclient.errors import HttpError
from googleapiclient.discovery import build

#DB 정보
host = "database"
port = 1234
username = "1234"        
password = "1234" 
db = "1234"

#DB 접속
conn  = pymysql.connect(host=host, port=port,user=username,passwd=password,db=db)  
cursor = conn.cursor()
conn.set_charset('utf8')   
cursor.execute("Select video_id FROM utube_video_info limit 340423,10000") #340423 부터 10000개
row = [item[0] for item in cursor.fetchall()]

url = 'https://www.youtube.com/watch?v='
api_key = '#' #data API v3
youtube = build('youtube', 'v3', developerKey=api_key)
df_keys = pd.read_csv('./YoutubeAPIV3Keys.csv',encoding='utf-8')
key_series = df_keys['Key']

df_youtube_comments = pd.DataFrame()

#유튜브 답글 수집하는 함수 
def get_video_comments(video_id):
    request = youtube.commentThreads().list(
        videoId = video_id,
        order = 'time',
        part = 'id,snippet',
        maxResults = 100
    )
    comments = [] #답글
    IDs = [] #아이디
    video_ids = [] #비디오아이디
    published_times = [] #발행시간
    response = {'items':'0'} #response 초기화
    quota = False
    while request:
        try:
            response = request.execute()
        except Exception as e:
            #print(e)
            if 'quota' in str(e.args[1]): #한도 초과이면 키 체인지
                quota = True
                return quota,comments,IDs,video_ids,published_times
            pass
        else:      
            for item in response['items']:
                ID = item['snippet']['topLevelComment']['snippet']['authorDisplayName']
                IDs.append(ID)
                comment = item['snippet']['topLevelComment']['snippet']['textDisplay']
                comments.append(comment)
                publishedAt = item['snippet']['topLevelComment']['snippet']['publishedAt']
                published_times.append(publishedAt)
                video_ids.append(video_id)
        finally:
            request = youtube.commentThreads().list_next(request, response)
        
    return quota,comments,IDs,video_ids,published_times

cnt = 0
key_cnt = 0
for video_id in row:
    quota,comments,ids,video_ids,published_times = get_video_comments(video_id)
    if(quota == True):
        key_cnt += 1
        print('현재 사용 중인 키 : ' + str(key_series[key_cnt]))
        youtube = build('youtube', 'v3', developerKey=key_series[key_cnt])
    df = pd.DataFrame(list(zip(video_ids,ids,comments,published_times)),columns=['video_url','id','comments','time'])
    df_youtube_comments = pd.concat([df,df_youtube_comments])
    cnt += 1
    if(cnt % 24 == 0):
        print(str(int(cnt/24)) + "% 완료") #확인하기

df_youtube_comments.drop_duplicates().to_csv('filename.csv',encoding='utf-8-sig')
df_youtube_comments.drop_duplicates()
