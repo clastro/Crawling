{
 "cells": [
  {
   "cell_type": "code",
   "execution_count": 7,
   "metadata": {},
   "outputs": [],
   "source": [
    "from urllib.request import urlopen\n",
    "import pandas as pd\n",
    "from bs4 import BeautifulSoup\n",
    "import webbrowser\n",
    "import requests\n",
    "import lxml.html\n",
    "import re\n",
    "#from selenium import webdriver\n",
    "import dart_fss as dart"
   ]
  },
  {
   "cell_type": "code",
   "execution_count": 8,
   "metadata": {},
   "outputs": [],
   "source": [
    "import time"
   ]
  },
  {
   "cell_type": "code",
   "execution_count": 9,
   "metadata": {},
   "outputs": [
    {
     "data": {
      "text/plain": [
       "Narket type: AllMkt\n",
       "Number of companies: 2353"
      ]
     },
     "execution_count": 9,
     "metadata": {},
     "output_type": "execute_result"
    }
   ],
   "source": [
    "crp_list = dart.get_crp_list()\n",
    "crp_list"
   ]
  },
  {
   "cell_type": "code",
   "execution_count": 22,
   "metadata": {},
   "outputs": [],
   "source": [
    "import re"
   ]
  },
  {
   "cell_type": "code",
   "execution_count": 25,
   "metadata": {},
   "outputs": [
    {
     "data": {
      "text/plain": [
       "2353"
      ]
     },
     "execution_count": 25,
     "metadata": {},
     "output_type": "execute_result"
    }
   ],
   "source": [
    "len(crp_list.crp_list)"
   ]
  },
  {
   "cell_type": "code",
   "execution_count": 26,
   "metadata": {},
   "outputs": [
    {
     "data": {
      "text/plain": [
       "'331660'"
      ]
     },
     "execution_count": 26,
     "metadata": {},
     "output_type": "execute_result"
    }
   ],
   "source": [
    "crp_list.crp_list[2352].crp_cd"
   ]
  },
  {
   "cell_type": "code",
   "execution_count": 27,
   "metadata": {},
   "outputs": [],
   "source": [
    "api_key = 'api_key' #\n",
    "#company_code = \"005930\""
   ]
  },
  {
   "cell_type": "code",
   "execution_count": 11,
   "metadata": {},
   "outputs": [],
   "source": [
    "df = pd.DataFrame(columns=['company_code','company_name','rcp_no'])"
   ]
  },
  {
   "cell_type": "code",
   "execution_count": 40,
   "metadata": {
    "scrolled": true
   },
   "outputs": [],
   "source": [
    "k = 0\n",
    "#rcp_list = []\n",
    "for c in crp_list:\n",
    "    code = str(c)\n",
    "    company_code = code[1:7] #기업코드\n",
    "    company_name = code[8:] #기업명\n",
    "    company_code = re.sub(\";\",\"\",company_code) #세미콜론 제거\n",
    "    url = \"http://dart.fss.or.kr/api/search.xml?auth=\"+api_key+\"&crp_cd=\"+company_code+\"&start_dt=20110101&bsn_tp=A001\"\n",
    "    resultXML = urlopen(url)\n",
    "    result = resultXML.read()\n",
    "    xmlsoup = BeautifulSoup(result,'html.parser')\n",
    "    tag_rcp_no = xmlsoup.findAll(\"rcp_no\",string=True)\n",
    "    if(len(tag_rcp_no)>0):\n",
    "        for t in tag_rcp_no:\n",
    "            df.loc[k,\"company_code\"] = company_code\n",
    "            df.loc[k,\"company_name\"] = company_name\n",
    "            df.loc[k,\"rcp_no\"] = t.get_text()\n",
    "            k+=1\n",
    "    else:\n",
    "        df.loc[k,\"company_code\"] = company_code\n",
    "        df.loc[k,\"company_name\"] = company_name\n",
    "        df.loc[k,\"rcp_no\"] = 0\n",
    "        k += 1\n",
    "    #rcp_list.append(rcp_no)\n",
    "    time.sleep(1)\n",
    "    "
   ]
  },
  {
   "cell_type": "code",
   "execution_count": 41,
   "metadata": {},
   "outputs": [
    {
     "data": {
      "text/html": [
       "<div>\n",
       "<style scoped>\n",
       "    .dataframe tbody tr th:only-of-type {\n",
       "        vertical-align: middle;\n",
       "    }\n",
       "\n",
       "    .dataframe tbody tr th {\n",
       "        vertical-align: top;\n",
       "    }\n",
       "\n",
       "    .dataframe thead th {\n",
       "        text-align: right;\n",
       "    }\n",
       "</style>\n",
       "<table border=\"1\" class=\"dataframe\">\n",
       "  <thead>\n",
       "    <tr style=\"text-align: right;\">\n",
       "      <th></th>\n",
       "      <th>company_code</th>\n",
       "      <th>company_name</th>\n",
       "      <th>rcp_no</th>\n",
       "    </tr>\n",
       "  </thead>\n",
       "  <tbody>\n",
       "    <tr>\n",
       "      <th>company_code</th>\n",
       "      <td>3</td>\n",
       "      <td>3</td>\n",
       "      <td>3</td>\n",
       "    </tr>\n",
       "    <tr>\n",
       "      <th>3</th>\n",
       "      <td>155660</td>\n",
       "      <td>DSR</td>\n",
       "      <td>20160330001425</td>\n",
       "    </tr>\n",
       "    <tr>\n",
       "      <th>0</th>\n",
       "      <td>155660</td>\n",
       "      <td>DSR</td>\n",
       "      <td>20190329003198</td>\n",
       "    </tr>\n",
       "    <tr>\n",
       "      <th>1</th>\n",
       "      <td>155660</td>\n",
       "      <td>DSR</td>\n",
       "      <td>20180330002370</td>\n",
       "    </tr>\n",
       "    <tr>\n",
       "      <th>2</th>\n",
       "      <td>155660</td>\n",
       "      <td>DSR</td>\n",
       "      <td>20170330001011</td>\n",
       "    </tr>\n",
       "    <tr>\n",
       "      <th>...</th>\n",
       "      <td>...</td>\n",
       "      <td>...</td>\n",
       "      <td>...</td>\n",
       "    </tr>\n",
       "    <tr>\n",
       "      <th>18976</th>\n",
       "      <td>202960</td>\n",
       "      <td>판도라티비</td>\n",
       "      <td>20150925000267</td>\n",
       "    </tr>\n",
       "    <tr>\n",
       "      <th>18977</th>\n",
       "      <td>202960</td>\n",
       "      <td>판도라티비</td>\n",
       "      <td>20150925000262</td>\n",
       "    </tr>\n",
       "    <tr>\n",
       "      <th>18978</th>\n",
       "      <td>202960</td>\n",
       "      <td>판도라티비</td>\n",
       "      <td>20150601000250</td>\n",
       "    </tr>\n",
       "    <tr>\n",
       "      <th>18979</th>\n",
       "      <td>202960</td>\n",
       "      <td>판도라티비</td>\n",
       "      <td>20150331001668</td>\n",
       "    </tr>\n",
       "    <tr>\n",
       "      <th>18980</th>\n",
       "      <td>331660</td>\n",
       "      <td>한국미라클피플사</td>\n",
       "      <td>20191101000362</td>\n",
       "    </tr>\n",
       "  </tbody>\n",
       "</table>\n",
       "<p>18982 rows × 3 columns</p>\n",
       "</div>"
      ],
      "text/plain": [
       "             company_code company_name          rcp_no\n",
       "company_code            3            3               3\n",
       "3                  155660          DSR  20160330001425\n",
       "0                  155660          DSR  20190329003198\n",
       "1                  155660          DSR  20180330002370\n",
       "2                  155660          DSR  20170330001011\n",
       "...                   ...          ...             ...\n",
       "18976              202960        판도라티비  20150925000267\n",
       "18977              202960        판도라티비  20150925000262\n",
       "18978              202960        판도라티비  20150601000250\n",
       "18979              202960        판도라티비  20150331001668\n",
       "18980              331660     한국미라클피플사  20191101000362\n",
       "\n",
       "[18982 rows x 3 columns]"
      ]
     },
     "execution_count": 41,
     "metadata": {},
     "output_type": "execute_result"
    }
   ],
   "source": [
    "df"
   ]
  },
  {
   "cell_type": "code",
   "execution_count": 43,
   "metadata": {},
   "outputs": [],
   "source": [
    "df.to_csv(\"company_info.csv\",encoding=\"utf-8-sig\")"
   ]
  }
 ],
 "metadata": {
  "kernelspec": {
   "display_name": "Python 3",
   "language": "python",
   "name": "python3"
  },
  "language_info": {
   "codemirror_mode": {
    "name": "ipython",
    "version": 3
   },
   "file_extension": ".py",
   "mimetype": "text/x-python",
   "name": "python",
   "nbconvert_exporter": "python",
   "pygments_lexer": "ipython3",
   "version": "3.7.6"
  }
 },
 "nbformat": 4,
 "nbformat_minor": 2
}
